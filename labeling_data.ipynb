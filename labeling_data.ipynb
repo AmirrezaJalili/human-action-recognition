{
 "cells": [
  {
   "cell_type": "code",
   "execution_count": null,
   "id": "6c9639ea",
   "metadata": {},
   "outputs": [],
   "source": [
    "# libraries\n",
    "\n",
    "from ultralytics import YOLO\n",
    "import os\n",
    "import pandas as pd"
   ]
  },
  {
   "cell_type": "code",
   "execution_count": null,
   "id": "8914c972",
   "metadata": {},
   "outputs": [],
   "source": [
    "# detection using yolov8l model\n",
    "\n",
    "model = YOLO('yolov8l.pt')\n",
    "\n",
    "path = 'images'\n",
    "\n",
    "model.predict(source = path, save = True, save_txt = True, project = 'result', classes = [0])"
   ]
  },
  {
   "cell_type": "code",
   "execution_count": null,
   "id": "ae53298e",
   "metadata": {},
   "outputs": [],
   "source": [
    "# read text files to change labels\n",
    "\n",
    "label_index = 1\n",
    "\n",
    "path = 'result/predict/labels/'\n",
    "file_lst = os.listdir(path)\n",
    "for file in file_lst:\n",
    "    file_path = path + file\n",
    "    df = pd.read_table(file_path, header = None, delimiter = \" \")\n",
    "\n",
    "    line_lst = list()\n",
    "    for i in range(df.shape[0]):\n",
    "        line = str(label_index) + ' ' + str(df[1][i]) + ' ' + str(df[2][i]) + ' ' + str(df[3][i]) + ' ' + str(df[4][i]) \n",
    "        line_lst.append(line)\n",
    "        \n",
    "    final_path = 'new_text_files' + file\n",
    "    with open(final_path, 'w') as f:\n",
    "        for line in line_lst:\n",
    "            f.write(line)\n",
    "            f.write('\\n')\n",
    "    f.close()"
   ]
  }
 ],
 "metadata": {
  "kernelspec": {
   "display_name": "Python 3 (ipykernel)",
   "language": "python",
   "name": "python3"
  },
  "language_info": {
   "codemirror_mode": {
    "name": "ipython",
    "version": 3
   },
   "file_extension": ".py",
   "mimetype": "text/x-python",
   "name": "python",
   "nbconvert_exporter": "python",
   "pygments_lexer": "ipython3",
   "version": "3.11.3"
  }
 },
 "nbformat": 4,
 "nbformat_minor": 5
}
