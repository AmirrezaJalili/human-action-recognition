{
 "cells": [
  {
   "cell_type": "code",
   "execution_count": null,
   "id": "cc6ebc99",
   "metadata": {},
   "outputs": [],
   "source": [
    "# libraries\n",
    "\n",
    "import yaml"
   ]
  },
  {
   "cell_type": "code",
   "execution_count": null,
   "id": "e0a8ed6d",
   "metadata": {},
   "outputs": [],
   "source": [
    "# download data.yaml file\n",
    "\n",
    "!gdown https://drive.google.com/uc?id=1joW_me3Gtzxm4d48edbMsOpooV8snDdn"
   ]
  },
  {
   "cell_type": "code",
   "execution_count": null,
   "id": "a21cae82",
   "metadata": {},
   "outputs": [],
   "source": [
    "#read data.yaml file\n",
    "\n",
    "with open(data, 'r') as file:\n",
    "    f = yaml.safe_load(file)"
   ]
  },
  {
   "cell_type": "markdown",
   "id": "b61ef30e",
   "metadata": {},
   "source": [
    "print(f)\n",
    "\n",
    "\n",
    ">> \n",
    "{'path': ,\n",
    " 'train': 'images\\train',\n",
    " 'val': 'images\\val',\n",
    " 'test': 'images\\test',\n",
    " 'names': []}\n"
   ]
  },
  {
   "cell_type": "code",
   "execution_count": null,
   "id": "76f300f6",
   "metadata": {},
   "outputs": [],
   "source": [
    "labels_lst = ['calling', 'sitting']\n",
    "f['path'] = 'dataset'\n",
    "f['train'] = 'images/train'\n",
    "f['val'] = 'images/val'\n",
    "f['test'] = 'images/test'\n",
    "f['names'] = labesl_lst"
   ]
  },
  {
   "cell_type": "code",
   "execution_count": null,
   "id": "7f269f44",
   "metadata": {},
   "outputs": [],
   "source": [
    "new_yaml = yaml.safe_load(f)\n",
    "\n",
    "with open('new_yaml.yaml', 'w') as file:\n",
    "    yaml.dump(new_yaml, file)"
   ]
  }
 ],
 "metadata": {
  "kernelspec": {
   "display_name": "Python 3 (ipykernel)",
   "language": "python",
   "name": "python3"
  },
  "language_info": {
   "codemirror_mode": {
    "name": "ipython",
    "version": 3
   },
   "file_extension": ".py",
   "mimetype": "text/x-python",
   "name": "python",
   "nbconvert_exporter": "python",
   "pygments_lexer": "ipython3",
   "version": "3.11.3"
  }
 },
 "nbformat": 4,
 "nbformat_minor": 5
}
